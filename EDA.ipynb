{
 "cells": [
  {
   "cell_type": "markdown",
   "id": "8b25e092",
   "metadata": {},
   "source": [
    "# Exploratory Data Analysis (EDA)\n",
    "Use the dataset(s) provided to do some exploratory analysis - which is not expected to be exhaustive; it only needs to demonstrate some comfort level doing some interesting analysis and presenting findings"
   ]
  },
  {
   "cell_type": "code",
   "execution_count": 2,
   "id": "a7a2cba6",
   "metadata": {
    "execution": {
     "iopub.execute_input": "2021-08-22T15:21:06.986303Z",
     "iopub.status.busy": "2021-08-22T15:21:06.986303Z",
     "iopub.status.idle": "2021-08-22T15:21:07.372203Z",
     "shell.execute_reply": "2021-08-22T15:21:07.372203Z",
     "shell.execute_reply.started": "2021-08-22T15:21:06.986303Z"
    }
   },
   "outputs": [],
   "source": [
    "import pandas as pd\n",
    "import numpy as np\n",
    "import os\n",
    "import sys"
   ]
  },
  {
   "cell_type": "code",
   "execution_count": 3,
   "id": "be500eaa",
   "metadata": {
    "execution": {
     "iopub.execute_input": "2021-08-22T15:21:08.410555Z",
     "iopub.status.busy": "2021-08-22T15:21:08.410555Z",
     "iopub.status.idle": "2021-08-22T15:21:08.441600Z",
     "shell.execute_reply": "2021-08-22T15:21:08.441600Z",
     "shell.execute_reply.started": "2021-08-22T15:21:08.410555Z"
    }
   },
   "outputs": [
    {
     "name": "stdout",
     "output_type": "stream",
     "text": [
      "Production estimates dataset is found in: datasets/PRODUCTION ESTIMATES.csv\n",
      "Wholesale prices dataset is found in: datasets/NATIONAL WHOLESALE PRICE OF SOME SELECTED COMMODITIES.csv\n",
      "Rainfall dataset is found in: datasets/RAINFALL.csv\n"
     ]
    }
   ],
   "source": [
    "# Useful parameters\n",
    "DATA_DIR = 'datasets/'\n",
    "prod_estimates_dataset = 'PRODUCTION ESTIMATES.csv'\n",
    "wholesale_prices_dataset = 'NATIONAL WHOLESALE PRICE OF SOME SELECTED COMMODITIES.csv'\n",
    "rainfall_dataset = 'RAINFALL.csv'\n",
    "path_to_prod_est_dataset = os.path.join(DATA_DIR, prod_estimates_dataset)\n",
    "path_to_ws_prices_dataset = os.path.join(DATA_DIR, wholesale_prices_dataset)\n",
    "path_to_rainfall_dataset = os.path.join(DATA_DIR, rainfall_dataset)\n",
    "print('Production estimates dataset is found in:', path_to_prod_est_dataset)\n",
    "print('Wholesale prices dataset is found in:', path_to_ws_prices_dataset)\n",
    "print('Rainfall dataset is found in:', path_to_rainfall_dataset)"
   ]
  },
  {
   "cell_type": "code",
   "execution_count": 4,
   "id": "5f184a61",
   "metadata": {
    "execution": {
     "iopub.execute_input": "2021-08-22T15:21:10.990512Z",
     "iopub.status.busy": "2021-08-22T15:21:10.990512Z",
     "iopub.status.idle": "2021-08-22T15:21:11.021752Z",
     "shell.execute_reply": "2021-08-22T15:21:11.021752Z",
     "shell.execute_reply.started": "2021-08-22T15:21:10.990512Z"
    }
   },
   "outputs": [],
   "source": [
    "pro_est_df = pd.read_csv(path_to_prod_est_dataset)"
   ]
  },
  {
   "cell_type": "code",
   "execution_count": 5,
   "id": "097eefaf",
   "metadata": {
    "execution": {
     "iopub.execute_input": "2021-08-22T15:21:20.003503Z",
     "iopub.status.busy": "2021-08-22T15:21:20.003503Z",
     "iopub.status.idle": "2021-08-22T15:21:20.050372Z",
     "shell.execute_reply": "2021-08-22T15:21:20.050372Z",
     "shell.execute_reply.started": "2021-08-22T15:21:20.003503Z"
    }
   },
   "outputs": [
    {
     "data": {
      "text/html": [
       "<div>\n",
       "<style scoped>\n",
       "    .dataframe tbody tr th:only-of-type {\n",
       "        vertical-align: middle;\n",
       "    }\n",
       "\n",
       "    .dataframe tbody tr th {\n",
       "        vertical-align: top;\n",
       "    }\n",
       "\n",
       "    .dataframe thead th {\n",
       "        text-align: right;\n",
       "    }\n",
       "</style>\n",
       "<table border=\"1\" class=\"dataframe\">\n",
       "  <thead>\n",
       "    <tr style=\"text-align: right;\">\n",
       "      <th></th>\n",
       "      <th>REGION</th>\n",
       "      <th>DISTRICT</th>\n",
       "      <th>YEAR</th>\n",
       "      <th>CROP</th>\n",
       "      <th>AREA (HA)</th>\n",
       "      <th>YIELD (MT/HA)</th>\n",
       "      <th>PRODUCTION (MT)</th>\n",
       "    </tr>\n",
       "  </thead>\n",
       "  <tbody>\n",
       "    <tr>\n",
       "      <th>0</th>\n",
       "      <td>WESTERN</td>\n",
       "      <td>SHAMA AHANTA EAST</td>\n",
       "      <td>2008</td>\n",
       "      <td>MAIZE</td>\n",
       "      <td>1,099.00</td>\n",
       "      <td>1.15</td>\n",
       "      <td>1,263.85</td>\n",
       "    </tr>\n",
       "    <tr>\n",
       "      <th>1</th>\n",
       "      <td>WESTERN</td>\n",
       "      <td>WEST AHANTA</td>\n",
       "      <td>2008</td>\n",
       "      <td>MAIZE</td>\n",
       "      <td>1,433.00</td>\n",
       "      <td>1.19</td>\n",
       "      <td>1,705.27</td>\n",
       "    </tr>\n",
       "    <tr>\n",
       "      <th>2</th>\n",
       "      <td>WESTERN</td>\n",
       "      <td>MPORHOR WASSA EAST</td>\n",
       "      <td>2008</td>\n",
       "      <td>MAIZE</td>\n",
       "      <td>2,034.00</td>\n",
       "      <td>1.32</td>\n",
       "      <td>2,684.88</td>\n",
       "    </tr>\n",
       "  </tbody>\n",
       "</table>\n",
       "</div>"
      ],
      "text/plain": [
       "    REGION            DISTRICT  YEAR   CROP AREA (HA) YIELD (MT/HA)  \\\n",
       "0  WESTERN   SHAMA AHANTA EAST  2008  MAIZE  1,099.00          1.15   \n",
       "1  WESTERN         WEST AHANTA  2008  MAIZE  1,433.00          1.19   \n",
       "2  WESTERN  MPORHOR WASSA EAST  2008  MAIZE  2,034.00          1.32   \n",
       "\n",
       "  PRODUCTION (MT)  \n",
       "0        1,263.85  \n",
       "1        1,705.27  \n",
       "2        2,684.88  "
      ]
     },
     "execution_count": 5,
     "metadata": {},
     "output_type": "execute_result"
    }
   ],
   "source": [
    "pro_est_df.head(3)"
   ]
  },
  {
   "cell_type": "code",
   "execution_count": 6,
   "id": "eda56564",
   "metadata": {
    "execution": {
     "iopub.execute_input": "2021-08-22T15:26:44.841830Z",
     "iopub.status.busy": "2021-08-22T15:26:44.841830Z",
     "iopub.status.idle": "2021-08-22T15:26:44.873078Z",
     "shell.execute_reply": "2021-08-22T15:26:44.873078Z",
     "shell.execute_reply.started": "2021-08-22T15:26:44.841830Z"
    }
   },
   "outputs": [
    {
     "data": {
      "text/html": [
       "<div>\n",
       "<style scoped>\n",
       "    .dataframe tbody tr th:only-of-type {\n",
       "        vertical-align: middle;\n",
       "    }\n",
       "\n",
       "    .dataframe tbody tr th {\n",
       "        vertical-align: top;\n",
       "    }\n",
       "\n",
       "    .dataframe thead th {\n",
       "        text-align: right;\n",
       "    }\n",
       "</style>\n",
       "<table border=\"1\" class=\"dataframe\">\n",
       "  <thead>\n",
       "    <tr style=\"text-align: right;\">\n",
       "      <th></th>\n",
       "      <th>YEAR</th>\n",
       "      <th>MONTH</th>\n",
       "      <th>COMMODITY</th>\n",
       "      <th>WEIGHT, KG PER BAG</th>\n",
       "      <th>PRICE, � GH</th>\n",
       "    </tr>\n",
       "  </thead>\n",
       "  <tbody>\n",
       "    <tr>\n",
       "      <th>0</th>\n",
       "      <td>2008</td>\n",
       "      <td>JANUARY</td>\n",
       "      <td>MAIZE</td>\n",
       "      <td>100</td>\n",
       "      <td>13.694</td>\n",
       "    </tr>\n",
       "    <tr>\n",
       "      <th>1</th>\n",
       "      <td>2008</td>\n",
       "      <td>FEBRUARY</td>\n",
       "      <td>MAIZE</td>\n",
       "      <td>100</td>\n",
       "      <td>13.066</td>\n",
       "    </tr>\n",
       "    <tr>\n",
       "      <th>2</th>\n",
       "      <td>2008</td>\n",
       "      <td>MARCH</td>\n",
       "      <td>MAIZE</td>\n",
       "      <td>100</td>\n",
       "      <td>14.043</td>\n",
       "    </tr>\n",
       "  </tbody>\n",
       "</table>\n",
       "</div>"
      ],
      "text/plain": [
       "   YEAR     MONTH COMMODITY  WEIGHT, KG PER BAG   PRICE, � GH\n",
       "0  2008   JANUARY     MAIZE                 100        13.694\n",
       "1  2008  FEBRUARY     MAIZE                 100        13.066\n",
       "2  2008     MARCH     MAIZE                 100        14.043"
      ]
     },
     "execution_count": 6,
     "metadata": {},
     "output_type": "execute_result"
    }
   ],
   "source": [
    "ws_price_df = pd.read_csv(path_to_ws_prices_dataset)\n",
    "ws_price_df.head(3)"
   ]
  },
  {
   "cell_type": "code",
   "execution_count": null,
   "id": "babaf9b6",
   "metadata": {},
   "outputs": [],
   "source": []
  }
 ],
 "metadata": {
  "kernelspec": {
   "display_name": "Python 3",
   "language": "python",
   "name": "python3"
  },
  "language_info": {
   "codemirror_mode": {
    "name": "ipython",
    "version": 3
   },
   "file_extension": ".py",
   "mimetype": "text/x-python",
   "name": "python",
   "nbconvert_exporter": "python",
   "pygments_lexer": "ipython3",
   "version": "3.8.5"
  }
 },
 "nbformat": 4,
 "nbformat_minor": 5
}
