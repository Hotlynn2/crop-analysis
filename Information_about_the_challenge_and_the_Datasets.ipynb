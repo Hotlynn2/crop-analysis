{
 "cells": [
  {
   "cell_type": "markdown",
   "id": "80f883c5",
   "metadata": {},
   "source": [
    "# Datasets Information\n",
    "The datasets contained in this project include the following relate to Ghana data for the period 2008-2017:\n",
    "- `PRODUCTION ESTIMATES.csv`: The Agricultural production estimate is determine by using the area cropped in hectares and the crop yield per hectare - i.e., area cropped (Ha) or cultivated, yield(Mt/Ha) and production\n",
    "- `NATIONAL WHOLESALE PRICE OF SOME SELECTED COMMODITIES.csv`: The national wholesale price of selected commodities is the average of collated prices of each commodity in the regions\n",
    "- `RAINFALL.csv`: The total annual regional rainfall data\n",
    "\n",
    "<b>Challenge:</b>\n",
    "- Your challenge is to use the dataset(s) to do some interesting EDA and/or prepare something interesting that may be possible using ML\n",
    "\n",
    "<b>Notes:</b>\n",
    "- You are not required to use all the datasets - i.e. you may use any or all of the datasets.\n",
    "- You do not have to take up the ML part of the challenge but some interesting EDA is definitely expected\n",
    "- Use the `EDA.ipynb` as the starting point of your work\n",
    "\n",
    "<b>Submission Guidelines:</b>\n",
    "- Once you are ready or you have completed what you want to present, simply package your project with your Jupyter Notebook(s) into a Zip file and return to us via email."
   ]
  },
  {
   "cell_type": "code",
   "execution_count": null,
   "id": "81f827e5",
   "metadata": {},
   "outputs": [],
   "source": []
  }
 ],
 "metadata": {
  "kernelspec": {
   "display_name": "Python 3",
   "language": "python",
   "name": "python3"
  },
  "language_info": {
   "codemirror_mode": {
    "name": "ipython",
    "version": 3
   },
   "file_extension": ".py",
   "mimetype": "text/x-python",
   "name": "python",
   "nbconvert_exporter": "python",
   "pygments_lexer": "ipython3",
   "version": "3.8.5"
  }
 },
 "nbformat": 4,
 "nbformat_minor": 5
}
